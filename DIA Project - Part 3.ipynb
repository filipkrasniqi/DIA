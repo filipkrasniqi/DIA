{
  "nbformat": 4,
  "nbformat_minor": 0,
  "metadata": {
    "colab": {
      "name": "DIA Project - Part 3.ipynb",
      "version": "0.3.2",
      "provenance": [],
      "collapsed_sections": []
    },
    "language_info": {
      "codemirror_mode": {
        "name": "ipython",
        "version": 3
      },
      "file_extension": ".py",
      "mimetype": "text/x-python",
      "name": "python",
      "nbconvert_exporter": "python",
      "pygments_lexer": "ipython3",
      "version": "3.7.3"
    },
    "kernelspec": {
      "name": "python3",
      "display_name": "Python 3"
    },
    "accelerator": "GPU"
  },
  "cells": [
    {
      "cell_type": "markdown",
      "metadata": {
        "id": "pOAY4vgsfGEM",
        "colab_type": "text"
      },
      "source": [
        "# PROJECT PART 3"
      ]
    },
    {
      "cell_type": "markdown",
      "metadata": {
        "id": "gp0XMgKbfGEN",
        "colab_type": "text"
      },
      "source": [
        "### 1. Choose a product to advertise by means of digital tools. Provide a brief description."
      ]
    },
    {
      "cell_type": "markdown",
      "metadata": {
        "id": "LkvVapvBfGEN",
        "colab_type": "text"
      },
      "source": [
        "We have chosen shoes as a product because they provide a lot of variety, so they guarantee an high flexibility when targeting users. For this reason we think that they are a good choice for this project."
      ]
    },
    {
      "cell_type": "markdown",
      "metadata": {
        "id": "J_zBLcqPfGEO",
        "colab_type": "text"
      },
      "source": [
        "### 2. Imagine 5 advertising sub-campaigns. Imagine an average daily budget/clicks curve (providing, for every value of daily budget, the number of daily clicks) aggregating the curves of three different classes of users. Notice that, in order to define the curves, it is necessary the definition of probability distributions. Provide a description of the three classes of users. Note: the definition of the classes of the users must be done by introducing features and different values for the features (e.g., gender, interests, age)."
      ]
    },
    {
      "cell_type": "markdown",
      "metadata": {
        "id": "5Zh33Pv7fGEP",
        "colab_type": "text"
      },
      "source": [
        "## Curve generation"
      ]
    },
    {
      "cell_type": "code",
      "metadata": {
        "id": "3-lKc2lyfGEP",
        "colab_type": "code",
        "colab": {}
      },
      "source": [
        "import numpy as np\n",
        "import matplotlib.pyplot as plt\n",
        "from functools import partial"
      ],
      "execution_count": 0,
      "outputs": []
    },
    {
      "cell_type": "code",
      "metadata": {
        "id": "NmvdRePsfGER",
        "colab_type": "code",
        "colab": {}
      },
      "source": [
        "def user_clicks(bid, slope, x):\n",
        "    slope = slope + add_noise(mu=0.01, std=0.05)\n",
        "    return (1 - np.exp(slope*x))*10"
      ],
      "execution_count": 0,
      "outputs": []
    },
    {
      "cell_type": "code",
      "metadata": {
        "id": "_H5KGvAZfGET",
        "colab_type": "code",
        "colab": {}
      },
      "source": [
        "def add_noise(mu=0, std=1):\n",
        "    return np.random.normal(mu, std)"
      ],
      "execution_count": 0,
      "outputs": []
    },
    {
      "cell_type": "code",
      "metadata": {
        "id": "Jk1H42FcfGEV",
        "colab_type": "code",
        "colab": {
          "base_uri": "https://localhost:8080/",
          "height": 852
        },
        "outputId": "d357c1cd-a1c2-4440-cfc7-798078c42cf3"
      },
      "source": [
        "n_user = 3\n",
        "num_click = np.array([])\n",
        "slopes = [-0.1*(1), -0.1*(2), -0.1*(3)]\n",
        "\n",
        "for user in range(n_user):\n",
        "    bid = 10*(user+1)\n",
        "    max_budget = 70\n",
        "    \n",
        "    # Linear space from 0 to bid value, y is 0 for everything.\n",
        "    x_0 = np.linspace(0, bid, bid*20)\n",
        "    y_0 = np.zeros(bid*20)\n",
        "\n",
        "    # Linear space from bid value to max_budget, y is exponential.\n",
        "    x_1 = np.linspace(bid, max_budget, max_budget*20)\n",
        "    x = np.linspace(0, max_budget-bid, max_budget*20)\n",
        "    y_1 = user_clicks(bid, slopes[user] , x)\n",
        "\n",
        "    x = np.append(x_0, x_1)\n",
        "    y = np.append(y_0, y_1)\n",
        "\n",
        "    plt.plot(x, y)\n",
        "    plt.title(\"User %d\" % (user + 1))\n",
        "    plt.xlabel(\"Daily budget\")\n",
        "    plt.xlim((0, max_budget))\n",
        "    plt.ylabel(\"Clicks\")\n",
        "    plt.show()"
      ],
      "execution_count": 70,
      "outputs": [
        {
          "output_type": "display_data",
          "data": {
            "image/png": "[encoded data removed]",
            "text/plain": [
              "<Figure size 432x288 with 1 Axes>"
            ]
          },
          "metadata": {
            "tags": []
          }
        },
        {
          "output_type": "display_data",
          "data": {
            "image/png": "[encoded data removed]",
            "text/plain": [
              "<Figure size 432x288 with 1 Axes>"
            ]
          },
          "metadata": {
            "tags": []
          }
        },
        {
          "output_type": "display_data",
          "data": {
            "image/png": "[encoded data removed]",
            "text/plain": [
              "<Figure size 432x288 with 1 Axes>"
            ]
          },
          "metadata": {
            "tags": []
          }
        }
      ]
    },
    {
      "cell_type": "markdown",
      "metadata": {
        "id": "an1NQw9sfGEY",
        "colab_type": "text"
      },
      "source": [
        "## Curve aggregation"
      ]
    },
    {
      "cell_type": "code",
      "metadata": {
        "id": "dyr7HTh3fGEZ",
        "colab_type": "code",
        "colab": {}
      },
      "source": [
        "n_inf = float(\"-inf\")\n",
        "class Subcampaign:\n",
        "    def __init__(self, bid, min_budget, max_budget, number_of_clicks):\n",
        "        self.bid = bid\n",
        "        self.min_budget = min_budget\n",
        "        self.max_budget = max_budget\n",
        "        self.number_of_clicks = number_of_clicks #function\n",
        "    \n",
        "    # x is budget\n",
        "    def n(self,x):\n",
        "        if x < self.min_budget:\n",
        "            return n_inf\n",
        "        elif x < self.bid:\n",
        "            return 0\n",
        "        elif x > self.max_budget:\n",
        "            return n_inf\n",
        "        else:\n",
        "            return self.number_of_clicks(x)"
      ],
      "execution_count": 0,
      "outputs": []
    },
    {
      "cell_type": "markdown",
      "metadata": {
        "id": "sWqAIhi3fGEa",
        "colab_type": "text"
      },
      "source": [
        "### Init subcampaigns"
      ]
    },
    {
      "cell_type": "code",
      "metadata": {
        "id": "86bB7-AEfGEb",
        "colab_type": "code",
        "colab": {}
      },
      "source": [
        "subcampaigns = np.array([])\n",
        "\n",
        "bid_1 = 2\n",
        "bid_2 = 1\n",
        "bid_3 = 0.5\n",
        "bid_4 = 0.5\n",
        "bid_5 = 1\n",
        "\n",
        "n1 = partial(user_clicks, bid_1, slopes[0])\n",
        "n2 = partial(user_clicks, bid_2, slopes[2])\n",
        "n3 = partial(user_clicks, bid_3, slopes[0])\n",
        "n4 = partial(user_clicks, bid_4, slopes[1])\n",
        "n5 = partial(user_clicks, bid_5, slopes[2])\n",
        "\n",
        "subcampaigns = np.append(subcampaigns, Subcampaign(bid_1, 0, 40, n1))\n",
        "subcampaigns = np.append(subcampaigns, Subcampaign(bid_2, 0, 30, n2))\n",
        "subcampaigns = np.append(subcampaigns, Subcampaign(bid_3, 0, 40, n3))\n",
        "subcampaigns = np.append(subcampaigns, Subcampaign(bid_4, 0, 50, n4))\n",
        "subcampaigns = np.append(subcampaigns, Subcampaign(bid_5, 0, 60, n5))"
      ],
      "execution_count": 0,
      "outputs": []
    },
    {
      "cell_type": "markdown",
      "metadata": {
        "id": "RuGVNWIBfGEd",
        "colab_type": "text"
      },
      "source": [
        "### Init possible values of budget"
      ]
    },
    {
      "cell_type": "code",
      "metadata": {
        "id": "TGMdjlgQfGEd",
        "colab_type": "code",
        "colab": {}
      },
      "source": [
        "budgets = np.linspace(0.0, 70.0, 8)"
      ],
      "execution_count": 0,
      "outputs": []
    },
    {
      "cell_type": "markdown",
      "metadata": {
        "id": "b2Fg5LI-fGEg",
        "colab_type": "text"
      },
      "source": [
        "### First step: choice of bid\n",
        "Being that we have only one bid for each subcampaign, it is not necessary. I just fill the table with the resulting values"
      ]
    },
    {
      "cell_type": "code",
      "metadata": {
        "id": "yI66vYNrfGEg",
        "colab_type": "code",
        "colab": {}
      },
      "source": [
        "init_table = np.zeros(shape=(len(subcampaigns),len(budgets)))\n",
        "index_s = 0\n",
        "for s in subcampaigns:\n",
        "    row = []\n",
        "    for b in budgets:\n",
        "        row.append(s.n(x=b))\n",
        "    init_table[index_s] = row\n",
        "    index_s = index_s+1"
      ],
      "execution_count": 0,
      "outputs": []
    },
    {
      "cell_type": "code",
      "metadata": {
        "id": "VXxpXn2WfGEj",
        "colab_type": "code",
        "colab": {
          "base_uri": "https://localhost:8080/",
          "height": 193
        },
        "outputId": "119a708e-5f24-4ae0-dab3-7b8fde6f2d0f"
      },
      "source": [
        "print(init_table)"
      ],
      "execution_count": 75,
      "outputs": [
        {
          "output_type": "stream",
          "text": [
            "[[0.         2.00486515 6.27545628 6.61986093 9.58611538       -inf\n",
            "        -inf       -inf]\n",
            " [0.         9.33764808 9.98889853 9.99773421       -inf       -inf\n",
            "        -inf       -inf]\n",
            " [0.         7.80617492 8.34166971 9.41542166 9.77285508       -inf\n",
            "        -inf       -inf]\n",
            " [0.         8.59127908 9.7838681  9.90961706 9.59133259 9.9999563\n",
            "        -inf       -inf]\n",
            " [0.         9.02080883 9.9270311  9.9975744  9.9999815  9.99999426\n",
            "  9.99999829       -inf]]\n"
          ],
          "name": "stdout"
        }
      ]
    },
    {
      "cell_type": "markdown",
      "metadata": {
        "id": "B4yXmp_BfGEo",
        "colab_type": "text"
      },
      "source": [
        "### Second step: instance budget for each subcampaign"
      ]
    },
    {
      "cell_type": "code",
      "metadata": {
        "id": "kY-5_3hzfGEp",
        "colab_type": "code",
        "colab": {}
      },
      "source": [
        "table_result = np.array([])\n",
        "previous_row = np.zeros(len(budgets))\n",
        "# considero budget b. Per quell'iterazione, considero tutti i budget della subcampaign b_s s.t. b >= budget(previous_row) + budget(subcampaign)\n",
        "index_s = 0\n",
        "for s in subcampaigns:\n",
        "    index_b = 0\n",
        "    results = np.array([])  # array representing solution when adding subcampaign s\n",
        "    for b in budgets:\n",
        "        # when I am in subcampaign s, I have previous row containing the best allocation for each budget value\n",
        "        # fill array of choices of budget for pair (s, b). A choice is to be considered if budget\n",
        "        choices = np.array([])\n",
        "        # selezionare gli indici di previous_row che sono sotto a budget\n",
        "        filtered_choices_pr = previous_row[0:index_b+1]#lista temporanea contenente i casi di previous_row che sono associati ad un budget complementare\n",
        "        #print(filtered_choices_pr)\n",
        "        # selezionare per ogni valore di filtered_choices_pr l'associato della riga della subcampaign\n",
        "        for i in range(0, len(filtered_choices_pr)):\n",
        "            num_click_pr = previous_row[i]\n",
        "            # find index for associated complementary budget\n",
        "            j = np.where(budgets+budgets[i] == b)\n",
        "            j = j[0][0]\n",
        "            #print(i,j)\n",
        "            current_num_click_s = init_table[index_s][j]\n",
        "            choices = np.append(choices, current_num_click_s + num_click_pr)\n",
        "            #print(current_num_click_s, num_click_pr)\n",
        "        \n",
        "        #print(choices)\n",
        "        # find maximum\n",
        "        max_val = np.amax(choices)\n",
        "        results = np.append(results, max_val)                \n",
        "        index_b = index_b + 1\n",
        "        \n",
        "    #table_result = np.put(table_result, index_s, results)\n",
        "    table_result = np.concatenate((table_result, results), axis=0)\n",
        "    previous_row = results\n",
        "    index_s = index_s + 1\n",
        "\n",
        "table_result = table_result.reshape(len(subcampaigns), len(budgets))"
      ],
      "execution_count": 0,
      "outputs": []
    },
    {
      "cell_type": "code",
      "metadata": {
        "id": "_wLsW9CAfGEq",
        "colab_type": "code",
        "colab": {
          "base_uri": "https://localhost:8080/",
          "height": 193
        },
        "outputId": "2e67b153-9401-4978-d16c-804ec38b5d6c"
      },
      "source": [
        "print(table_result)"
      ],
      "execution_count": 77,
      "outputs": [
        {
          "output_type": "stream",
          "text": [
            "[[ 0.          2.00486515  6.27545628  6.61986093  9.58611538  9.58611538\n",
            "   9.58611538  9.58611538]\n",
            " [ 0.          9.33764808 11.34251323 15.61310435 16.26435481 18.92376345\n",
            "  19.57501391 19.58384959]\n",
            " [ 0.          9.33764808 17.143823   19.14868815 23.41927928 24.07052973\n",
            "  26.72993838 27.38118883]\n",
            " [ 0.          9.33764808 17.92892715 25.73510208 27.73996723 32.01055835\n",
            "  33.20314738 35.32121745]\n",
            " [ 0.          9.33764808 18.35845691 26.94973598 34.75591091 36.76077606\n",
            "  41.03136718 42.22395621]]\n"
          ],
          "name": "stdout"
        }
      ]
    },
    {
      "cell_type": "code",
      "metadata": {
        "id": "R-TXJO6TfGEt",
        "colab_type": "code",
        "colab": {
          "base_uri": "https://localhost:8080/",
          "height": 286
        },
        "outputId": "04428da2-8677-4506-ec44-493987dc0de8"
      },
      "source": [
        "plt.plot(budgets, table_result[-1])"
      ],
      "execution_count": 78,
      "outputs": [
        {
          "output_type": "execute_result",
          "data": {
            "text/plain": [
              "[<matplotlib.lines.Line2D at 0x7fb38eae6908>]"
            ]
          },
          "metadata": {
            "tags": []
          },
          "execution_count": 78
        },
        {
          "output_type": "display_data",
          "data": {
            "image/png": "[encoded data removed]",
            "text/plain": [
              "<Figure size 432x288 with 1 Axes>"
            ]
          },
          "metadata": {
            "tags": []
          }
        }
      ]
    },
    {
      "cell_type": "markdown",
      "metadata": {
        "id": "iNZGEB-ofGEv",
        "colab_type": "text"
      },
      "source": [
        "### 3. Be given a cumulative daily budget constraint. Be also given a discretisation for the daily budget values. Apply the Combinatorial-GP-TS to the aggregate curve (we are implicitly assuming that the bidding is performed automatically by the advertising platform) and report how the regret varies in time."
      ]
    },
    {
      "cell_type": "code",
      "metadata": {
        "id": "74016cnnfGEv",
        "colab_type": "code",
        "colab": {}
      },
      "source": [
        "from sklearn.gaussian_process import GaussianProcessRegressor\n",
        "from sklearn.gaussian_process.kernels import RBF, ConstantKernel as C"
      ],
      "execution_count": 0,
      "outputs": []
    },
    {
      "cell_type": "code",
      "metadata": {
        "id": "ub2Ig7K1fGEx",
        "colab_type": "code",
        "colab": {}
      },
      "source": [
        "class Learner():\n",
        "\n",
        "    def __init__(self, n_arms):\n",
        "        self.n_arms = n_arms\n",
        "        self.t = 0\n",
        "        self.rewards_per_arm = x = [[] for i in range(n_arms)]\n",
        "        self.collected_rewards = np.array([])\n",
        "\n",
        "    def update_observations(self, pulled_arm, reward):\n",
        "        self.rewards_per_arm[pulled_arm].append(reward)\n",
        "        self.collected_rewards = np.append(self.collected_rewards,reward)"
      ],
      "execution_count": 0,
      "outputs": []
    },
    {
      "cell_type": "code",
      "metadata": {
        "id": "jl0tbHtgfGEz",
        "colab_type": "code",
        "colab": {}
      },
      "source": [
        "class GPTS_Learner(Learner):\n",
        "  \n",
        "    def __init__(self, n_arms, arms):\n",
        "        super().__init__(n_arms)\n",
        "        self.arms = arms\n",
        "        self.means = np.zeros(n_arms)\n",
        "        self.sigmas = np.ones(n_arms) * 10\n",
        "        self.pulled_arms = []\n",
        "        alpha = 10.0\n",
        "\n",
        "        kernel = C(1.0, (1e-3, 1e3)) * RBF(1.0, (1e-3, 1e3))\n",
        "        self.gp = GaussianProcessRegressor(kernel=kernel, alpha=alpha ** 2, normalize_y=True, n_restarts_optimizer=9)\n",
        "\n",
        "    def update_observations(self, arm_idx, reward):\n",
        "        super().update_observations(arm_idx, reward)\n",
        "        self.pulled_arms.append(self.arms[arm_idx])\n",
        "\n",
        "    def update_model(self):\n",
        "        # Split pulled_arms in elements with at least 2 arrays each one.\n",
        "\n",
        "        x = np.atleast_2d(self.pulled_arms).T\n",
        "        y = self.collected_rewards\n",
        "        # X: Training Data\n",
        "        # Y: Target Values\n",
        "        self.gp.fit(x, y)\n",
        "        self.means, self.sigmas = self.gp.predict(np.atleast_2d(self.arms).T, return_std=True)\n",
        "        self.sigmas = np.maximum(self.sigmas, 1e-2)\n",
        "\n",
        "    def update(self, pulled_arm, reward):\n",
        "        self.t += 1\n",
        "        self.update_observations(pulled_arm, reward)\n",
        "        self.update_model()\n",
        "\n",
        "    def pull_arm(self):\n",
        "        sampled_values = np.random.normal(self.means, self.sigmas)\n",
        "        return np.argmax(sampled_values)"
      ],
      "execution_count": 0,
      "outputs": []
    },
    {
      "cell_type": "code",
      "metadata": {
        "id": "tt2vmYCbfGE2",
        "colab_type": "code",
        "colab": {}
      },
      "source": [
        "class Environment():\n",
        "    def __init__(self, daily_budgets, sigma):\n",
        "        self.daily_budgets = daily_budgets\n",
        "        self.means = table_result[-1]\n",
        "        self.sigmas = np.ones(len(daily_budgets))*sigma\n",
        "\n",
        "    def round(self, pulled_arm):\n",
        "        return np.random.normal(self.means[pulled_arm],self.sigmas[pulled_arm])"
      ],
      "execution_count": 0,
      "outputs": []
    },
    {
      "cell_type": "code",
      "metadata": {
        "id": "94z6vwpAfGE4",
        "colab_type": "code",
        "colab": {
          "base_uri": "https://localhost:8080/",
          "height": 283
        },
        "outputId": "188866a5-ea28-40ff-dd7b-9c8db417caac"
      },
      "source": [
        "sigma = 10\n",
        "\n",
        "T = 40\n",
        "\n",
        "n_experiments = 30\n",
        "gpts_rewards_per_experiment = []\n",
        "\n",
        "for e in range(0, n_experiments):\n",
        "    env = Environment(daily_budgets=budgets, sigma=sigma)\n",
        "    gpts_learner = GPTS_Learner(n_arms=len(budgets), arms=budgets)\n",
        "\n",
        "    for t in range(0, T):\n",
        "        pulled_arm = gpts_learner.pull_arm()\n",
        "        reward = env.round(pulled_arm)\n",
        "        gpts_learner.update(pulled_arm, reward)\n",
        "\n",
        "    gpts_rewards_per_experiment.append(gpts_learner.collected_rewards)\n",
        "\n",
        "opt = np.max(env.means)\n",
        "plt.figure(0)\n",
        "plt.xlabel(\"t\")\n",
        "plt.ylabel(\"Regret\")\n",
        "plt.plot(np.cumsum(np.mean(opt - gpts_rewards_per_experiment, axis=0)), 'g')  # Green color for GPTS\n",
        "plt.legend([\"GPTS\"])\n",
        "plt.show()"
      ],
      "execution_count": 83,
      "outputs": [
        {
          "output_type": "display_data",
          "data": {
            "image/png": "[encoded data removed]",
            "text/plain": [
              "<Figure size 432x288 with 1 Axes>"
            ]
          },
          "metadata": {
            "tags": []
          }
        }
      ]
    },
    {
      "cell_type": "markdown",
      "metadata": {
        "id": "3nOAMrHSfGE6",
        "colab_type": "text"
      },
      "source": [
        "### 4. Focus on a single sub-campaign. Report the the average regression error of the GP as the number of samples increases. The regression error is the maximum error among all the possible arms."
      ]
    },
    {
      "cell_type": "code",
      "metadata": {
        "id": "t3JZe5CypScI",
        "colab_type": "code",
        "colab": {
          "base_uri": "https://localhost:8080/",
          "height": 283
        },
        "outputId": "7c362329-3e0a-4b4c-ce29-72ee7d0d572b"
      },
      "source": [
        "# from filip bidding env\n",
        "sigma = 10\n",
        "\n",
        "T = 40\n",
        "\n",
        "n_experiments = 30\n",
        "gpts_rewards_per_experiment = []\n",
        "gaussian_error_per_experiment = []\n",
        "\n",
        "for e in range(0, n_experiments):\n",
        "    env = Environment(daily_budgets=budgets, sigma=sigma)\n",
        "    gpts_learner = GPTS_Learner(n_arms=len(budgets), arms=budgets)\n",
        "    gpts_errors = []\n",
        "\n",
        "    for t in range(0, T):\n",
        "        pulled_arm = gpts_learner.pull_arm()\n",
        "        reward = env.round(pulled_arm)\n",
        "        gpts_learner.update(pulled_arm, reward)\n",
        "        gpts_errors.append(np.max(np.absolute(env.means - gpts_learner.means)))\n",
        "\n",
        "    gpts_rewards_per_experiment.append(gpts_learner.collected_rewards)\n",
        "    gaussian_error_per_experiment.append(gpts_errors)\n",
        "\n",
        "plt.figure(0)\n",
        "plt.xlabel(\"t\")\n",
        "plt.ylabel(\"Regression Error\")\n",
        "plt.plot(np.mean(gaussian_error_per_experiment, axis=0), 'g')\n",
        "plt.legend([\"GPTS\"])\n",
        "plt.show()"
      ],
      "execution_count": 84,
      "outputs": [
        {
          "output_type": "display_data",
          "data": {
            "image/png": "[encoded data removed]",
            "text/plain": [
              "<Figure size 432x288 with 1 Axes>"
            ]
          },
          "metadata": {
            "tags": []
          }
        }
      ]
    },
    {
      "cell_type": "markdown",
      "metadata": {
        "id": "doT5hfsMfGE7",
        "colab_type": "text"
      },
      "source": [
        "### 5. Suppose to apply, the first day of every week, an algorithm to identify contexts and, therefore, to disaggregate the curves if doing that is the best we can do. And, if such an algorithm suggests disaggregating the curve at time t, then, from t on, keep such curves disaggregate. In order to disaggregate the curve, it is necessary to reason on the features and the values of the features. Apply the Combinatorial-GP-TS algorithm and show, in a plot, how the regret and the reward vary in time (also comparing the regret and the reward of these algorithms with those obtained when the algorithms are applied to the aggregate curve)."
      ]
    },
    {
      "cell_type": "code",
      "metadata": {
        "id": "cHRSFMIWfGE8",
        "colab_type": "code",
        "colab": {}
      },
      "source": [
        ""
      ],
      "execution_count": 0,
      "outputs": []
    }
  ]
}