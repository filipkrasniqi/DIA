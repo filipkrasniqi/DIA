{
 "cells": [
  {
   "cell_type": "markdown",
   "metadata": {},
   "source": [
    "# PROJECT PART 3"
   ]
  },
  {
   "cell_type": "markdown",
   "metadata": {},
   "source": [
    "### 1. Choose a product to advertise by means of digital tools. Provide a brief description."
   ]
  },
  {
   "cell_type": "markdown",
   "metadata": {},
   "source": [
    "We have chosen shoes as a product because they provide a lot of variety, so they guarantee an high flexibility when targeting users. For this reason we think that they are a good choice for this project."
   ]
  },
  {
   "cell_type": "markdown",
   "metadata": {},
   "source": [
    "### 2. Imagine 5 advertising sub-campaigns. Imagine an average daily budget/clicks curve (providing, for every value of daily budget, the number of daily clicks) aggregating the curves of three different classes of users. Notice that, in order to define the curves, it is necessary the definition of probability distributions. Provide a description of the three classes of users. Note: the definition of the classes of the users must be done by introducing features and different values for the features (e.g., gender, interests, age)."
   ]
  },
  {
   "cell_type": "markdown",
   "metadata": {},
   "source": [
    "## Curve generation"
   ]
  },
  {
   "cell_type": "code",
   "execution_count": 1,
   "metadata": {},
   "outputs": [],
   "source": [
    "import numpy as np\n",
    "import matplotlib.pyplot as plt\n",
    "from functools import partial"
   ]
  },
  {
   "cell_type": "code",
   "execution_count": 2,
   "metadata": {},
   "outputs": [],
   "source": [
    "def user_clicks(bid, slope, x):\n",
    "    slope = slope + add_noise(mu=0.01, std=0.05)\n",
    "    return (1 - np.exp(slope*x))*10"
   ]
  },
  {
   "cell_type": "code",
   "execution_count": 3,
   "metadata": {},
   "outputs": [],
   "source": [
    "def add_noise(mu=0, std=1):\n",
    "    return np.random.normal(mu, std)"
   ]
  },
  {
   "cell_type": "code",
   "execution_count": 4,
   "metadata": {},
   "outputs": [
    {
     "data": {
      "image/png": "[encoded data removed]",
      "text/plain": [
       "<Figure size 432x288 with 1 Axes>"
      ]
     },
     "metadata": {
      "needs_background": "light"
     },
     "output_type": "display_data"
    },
    {
     "data": {
      "image/png": "[encoded data removed]",
      "text/plain": [
       "<Figure size 432x288 with 1 Axes>"
      ]
     },
     "metadata": {
      "needs_background": "light"
     },
     "output_type": "display_data"
    },
    {
     "data": {
      "image/png": "[encoded data removed]",
      "text/plain": [
       "<Figure size 432x288 with 1 Axes>"
      ]
     },
     "metadata": {
      "needs_background": "light"
     },
     "output_type": "display_data"
    }
   ],
   "source": [
    "n_user = 3\n",
    "num_click = np.array([])\n",
    "slopes = [-0.1*(1), -0.1*(2), -0.1*(3)]\n",
    "\n",
    "for user in range(n_user):\n",
    "    bid = 10*(user+1)\n",
    "    max_budget = 70\n",
    "    \n",
    "    # Linear space from 0 to bid value, y is 0 for everything.\n",
    "    x_0 = np.linspace(0, bid, bid*20)\n",
    "    y_0 = np.zeros(bid*20)\n",
    "\n",
    "    # Linear space from bid value to max_budget, y is exponential.\n",
    "    x_1 = np.linspace(bid, max_budget, max_budget*20)\n",
    "    x = np.linspace(0, max_budget-bid, max_budget*20)\n",
    "    y_1 = user_clicks(bid, slopes[user] , x)\n",
    "\n",
    "    x = np.append(x_0, x_1)\n",
    "    y = np.append(y_0, y_1)\n",
    "\n",
    "    plt.plot(x, y)\n",
    "    plt.title(\"User %d\" % (user + 1))\n",
    "    plt.xlabel(\"Daily budget\")\n",
    "    plt.xlim((0, max_budget))\n",
    "    plt.ylabel(\"Clicks\")\n",
    "    plt.show()"
   ]
  },
  {
   "cell_type": "markdown",
   "metadata": {},
   "source": [
    "## Curve aggregation"
   ]
  },
  {
   "cell_type": "code",
   "execution_count": 5,
   "metadata": {},
   "outputs": [],
   "source": [
    "n_inf = float(\"-inf\")\n",
    "class Subcampaign:\n",
    "    def __init__(self, bid, min_budget, max_budget, number_of_clicks):\n",
    "        self.bid = bid\n",
    "        self.min_budget = min_budget\n",
    "        self.max_budget = max_budget\n",
    "        self.number_of_clicks = number_of_clicks #function\n",
    "    \n",
    "    # x is budget\n",
    "    def n(self,x):\n",
    "        if x < self.min_budget:\n",
    "            return n_inf\n",
    "        elif x < self.bid:\n",
    "            return 0\n",
    "        elif x > self.max_budget:\n",
    "            return n_inf\n",
    "        else:\n",
    "            return self.number_of_clicks(x)"
   ]
  },
  {
   "cell_type": "markdown",
   "metadata": {},
   "source": [
    "### Init subcampaigns"
   ]
  },
  {
   "cell_type": "code",
   "execution_count": 6,
   "metadata": {},
   "outputs": [],
   "source": [
    "subcampaigns = np.array([])\n",
    "\n",
    "bid_1 = 2\n",
    "bid_2 = 1\n",
    "bid_3 = 0.5\n",
    "bid_4 = 0.5\n",
    "bid_5 = 1\n",
    "\n",
    "n1 = partial(user_clicks, bid_1, slopes[0])\n",
    "n2 = partial(user_clicks,bid_2, slopes[2])\n",
    "n3 = partial(user_clicks,bid_3, slopes[0])\n",
    "n4 = partial(user_clicks,bid_4, slopes[1])\n",
    "n5 = partial(user_clicks,bid_5, slopes[2])\n",
    "\n",
    "subcampaigns = np.append(subcampaigns, Subcampaign(2, 10, 40, n1))\n",
    "subcampaigns = np.append(subcampaigns, Subcampaign(1, 0, 30, n2))\n",
    "subcampaigns = np.append(subcampaigns, Subcampaign(0.5, 0, 40, n3))\n",
    "subcampaigns = np.append(subcampaigns, Subcampaign(0.5, 10, 50, n4))\n",
    "subcampaigns = np.append(subcampaigns, Subcampaign(1, 10, 60, n5))"
   ]
  },
  {
   "cell_type": "markdown",
   "metadata": {},
   "source": [
    "### Init possible values of budget"
   ]
  },
  {
   "cell_type": "code",
   "execution_count": 7,
   "metadata": {},
   "outputs": [],
   "source": [
    "budgets = np.linspace(0.0, 70.0, 8)"
   ]
  },
  {
   "cell_type": "markdown",
   "metadata": {},
   "source": [
    "### First step: choice of bid\n",
    "Being that we have only one bid for each subcampaign, it is not necessary. I just fill the table with the resulting values"
   ]
  },
  {
   "cell_type": "code",
   "execution_count": 8,
   "metadata": {},
   "outputs": [],
   "source": [
    "init_table = np.zeros(shape=(len(subcampaigns),len(budgets)))\n",
    "index_s = 0\n",
    "for s in subcampaigns:\n",
    "    row = []\n",
    "    for b in budgets:\n",
    "        row.append(s.n(x=b))\n",
    "    init_table[index_s]=row\n",
    "    index_s = index_s+1"
   ]
  },
  {
   "cell_type": "code",
   "execution_count": 9,
   "metadata": {},
   "outputs": [
    {
     "name": "stdout",
     "output_type": "stream",
     "text": [
      "[[      -inf 7.417161   0.65315127 0.82355036 9.80761511       -inf\n",
      "        -inf       -inf]\n",
      " [0.         9.43930392 9.98202052 9.9907058        -inf       -inf\n",
      "        -inf       -inf]\n",
      " [0.         6.62651227 7.29476329 6.42131818 9.99357491       -inf\n",
      "        -inf       -inf]\n",
      " [      -inf 9.21957885 9.87022001 9.98774115 9.9973315  9.99982686\n",
      "        -inf       -inf]\n",
      " [      -inf 9.07373953 9.94437514 9.99907381 9.99999561 9.99985849\n",
      "  9.99999777       -inf]]\n"
     ]
    }
   ],
   "source": [
    "print(init_table)"
   ]
  },
  {
   "cell_type": "markdown",
   "metadata": {},
   "source": [
    "### Second step: instance budget for each subcampaign"
   ]
  },
  {
   "cell_type": "code",
   "execution_count": 10,
   "metadata": {},
   "outputs": [],
   "source": [
    "table_result = np.array([])\n",
    "previous_row = np.zeros(len(budgets))\n",
    "# considero budget b. Per quell'iterazione, considero tutti i budget della subcampaign b_s s.t. b >= budget(previous_row) + budget(subcampaign)\n",
    "index_s = 0\n",
    "for s in subcampaigns:\n",
    "    index_b = 0\n",
    "    results = np.array([])  # array representing solution when adding subcampaign s\n",
    "    for b in budgets:\n",
    "        # when I am in subcampaign s, I have previous row containing the best allocation for each budget value\n",
    "        # fill array of choices of budget for pair (s, b). A choice is to be considered if budget\n",
    "        choices = np.array([])\n",
    "        if b > s.max_budget:\n",
    "            choices = np.append(choices, n_inf)\n",
    "        else:\n",
    "            # selezionare gli indici di previous_row che sono sotto a budget\n",
    "            filtered_choices_pr = previous_row[0:index_b+1]#lista temporanea contenente i casi di previous_row che sono associati ad un budget complementare\n",
    "            #print(filtered_choices_pr)\n",
    "            # selezionare per ogni valore di filtered_choices_pr l'associato della riga della subcampaign\n",
    "            for i in range(0, len(filtered_choices_pr)):\n",
    "                num_click_pr = previous_row[i]\n",
    "                # find index for associated complementary budget\n",
    "                j = np.where(budgets+budgets[i] == b)\n",
    "                j = j[0][0]\n",
    "                #print(i,j)\n",
    "                current_num_click_s = init_table[index_s][j]\n",
    "                choices = np.append(choices, current_num_click_s + num_click_pr)\n",
    "                #print(current_num_click_s, num_click_pr)\n",
    "        \n",
    "        #print(choices)\n",
    "        # find maximum\n",
    "        max_val = np.amax(choices)\n",
    "        results = np.append(results, max_val)                \n",
    "        index_b = index_b + 1\n",
    "        \n",
    "    #table_result = np.put(table_result, index_s, results)\n",
    "    table_result = np.concatenate((table_result, results), axis=0)\n",
    "    previous_row = results\n",
    "    index_s = index_s + 1\n",
    "\n",
    "table_result = table_result.reshape(len(subcampaigns), len(budgets))"
   ]
  },
  {
   "cell_type": "code",
   "execution_count": 11,
   "metadata": {},
   "outputs": [
    {
     "name": "stdout",
     "output_type": "stream",
     "text": [
      "[[       -inf  7.417161    7.417161    7.417161    9.80761511        -inf\n",
      "         -inf        -inf]\n",
      " [       -inf  7.417161   16.85646492 17.39918152        -inf        -inf\n",
      "         -inf        -inf]\n",
      " [       -inf  7.417161   16.85646492 23.48297719 24.15122821        -inf\n",
      "         -inf        -inf]\n",
      " [       -inf        -inf 16.63673984 26.07604376 32.70255603 33.37080706\n",
      "         -inf        -inf]\n",
      " [       -inf        -inf        -inf 25.71047937 35.14978329 41.77629556\n",
      "  42.64693117        -inf]]\n"
     ]
    }
   ],
   "source": [
    "print(table_result)"
   ]
  },
  {
   "cell_type": "code",
   "execution_count": 12,
   "metadata": {},
   "outputs": [
    {
     "data": {
      "text/plain": [
       "[<matplotlib.lines.Line2D at 0x218b89d25c0>]"
      ]
     },
     "execution_count": 12,
     "metadata": {},
     "output_type": "execute_result"
    },
    {
     "data": {
      "image/png": "[encoded data removed]",
      "text/plain": [
       "<Figure size 432x288 with 1 Axes>"
      ]
     },
     "metadata": {
      "needs_background": "light"
     },
     "output_type": "display_data"
    }
   ],
   "source": [
    "plt.plot(budgets, table_result[-1])"
   ]
  },
  {
   "cell_type": "markdown",
   "metadata": {},
   "source": [
    "### 3. Be given a cumulative daily budget constraint. Be also given a discretisation for the daily budget values. Apply the Combinatorial-GP-TS to the aggregate curve (we are implicitly assuming that the bidding is performed automatically by the advertising platform) and report how the regret varies in time."
   ]
  },
  {
   "cell_type": "markdown",
   "metadata": {},
   "source": [
    "### 4. Focus on a single sub-campaign. Report the the average regression error of the GP as the number of samples increases. The regression error is the maximum error among all the possible arms."
   ]
  },
  {
   "cell_type": "markdown",
   "metadata": {},
   "source": [
    "### 5. Suppose to apply, the first day of every week, an algorithm to identify contexts and, therefore, to disaggregate the curves if doing that is the best we can do. And, if such an algorithm suggests disaggregating the curve at time t, then, from t on, keep such curves disaggregate. In order to disaggregate the curve, it is necessary to reason on the features and the values of the features. Apply the Combinatorial-GP-TS algorithm and show, in a plot, how the regret and the reward vary in time (also comparing the regret and the reward of these algorithms with those obtained when the algorithms are applied to the aggregate curve)."
   ]
  },
  {
   "cell_type": "code",
   "execution_count": null,
   "metadata": {},
   "outputs": [],
   "source": []
  }
 ],
 "metadata": {
  "kernelspec": {
   "display_name": "Python 3",
   "language": "python",
   "name": "python3"
  },
  "language_info": {
   "codemirror_mode": {
    "name": "ipython",
    "version": 3
   },
   "file_extension": ".py",
   "mimetype": "text/x-python",
   "name": "python",
   "nbconvert_exporter": "python",
   "pygments_lexer": "ipython3",
   "version": "3.7.0"
  }
 },
 "nbformat": 4,
 "nbformat_minor": 2
}
