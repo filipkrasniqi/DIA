{
 "cells": [
  {
   "cell_type": "markdown",
   "metadata": {
    "colab_type": "text",
    "id": "pOAY4vgsfGEM"
   },
   "source": [
    "# PROJECT PART 3"
   ]
  },
  {
   "cell_type": "markdown",
   "metadata": {
    "colab_type": "text",
    "id": "gp0XMgKbfGEN"
   },
   "source": [
    "### 1. Choose a product to advertise by means of digital tools. Provide a brief description."
   ]
  },
  {
   "cell_type": "markdown",
   "metadata": {
    "colab_type": "text",
    "id": "LkvVapvBfGEN"
   },
   "source": [
    "We have chosen shoes as a product because they provide a lot of variety, so they guarantee an high flexibility when targeting users. For this reason we think that they are a good choice for this project."
   ]
  },
  {
   "cell_type": "markdown",
   "metadata": {
    "colab_type": "text",
    "id": "J_zBLcqPfGEO"
   },
   "source": [
    "### 2. Imagine 5 advertising sub-campaigns. Imagine an average daily budget/clicks curve (providing, for every value of daily budget, the number of daily clicks) aggregating the curves of three different classes of users. Notice that, in order to define the curves, it is necessary the definition of probability distributions. Provide a description of the three classes of users. Note: the definition of the classes of the users must be done by introducing features and different values for the features (e.g., gender, interests, age)."
   ]
  },
  {
   "cell_type": "markdown",
   "metadata": {
    "colab_type": "text",
    "id": "5Zh33Pv7fGEP"
   },
   "source": [
    "## Curve generation"
   ]
  },
  {
   "cell_type": "code",
   "execution_count": 1,
   "metadata": {
    "colab": {},
    "colab_type": "code",
    "id": "3-lKc2lyfGEP"
   },
   "outputs": [],
   "source": [
    "import numpy as np\n",
    "import matplotlib.pyplot as plt\n",
    "%matplotlib inline\n",
    "\n",
    "from functools import partial"
   ]
  },
  {
   "cell_type": "code",
   "execution_count": 2,
   "metadata": {
    "colab": {},
    "colab_type": "code",
    "id": "_H5KGvAZfGET"
   },
   "outputs": [],
   "source": [
    "def add_noise(mu=0, std=1):\n",
    "    return np.random.normal(mu, std)"
   ]
  },
  {
   "cell_type": "code",
   "execution_count": 3,
   "metadata": {
    "colab": {},
    "colab_type": "code",
    "id": "NmvdRePsfGER"
   },
   "outputs": [],
   "source": [
    "# Returns a tuple containing x and y values of a user clicks curve.\n",
    "def generate_clicks_curve(bid, max_budget, slope):\n",
    "    slope = slope + add_noise(mu=0.01, std=0.05)\n",
    "    \n",
    "    # Linear space from 0 to bid value, y is 0 for everything.\n",
    "    x_0 = np.linspace(0, bid, bid*20)\n",
    "    y_0 = np.zeros(bid*20)\n",
    "\n",
    "    # Linear space from bid value to max_budget, y is exponential.\n",
    "    x_1 = np.linspace(bid, max_budget, max_budget*20)\n",
    "    x = np.linspace(0, max_budget-bid, max_budget*20)\n",
    "    y_1 = (1 - np.exp(slope*x))*10\n",
    "\n",
    "    x = np.append(x_0, x_1)\n",
    "    y = np.append(y_0, y_1)\n",
    "    \n",
    "    plot_user_curve(x, y)\n",
    "    \n",
    "    return (x, y)"
   ]
  },
  {
   "cell_type": "code",
   "execution_count": 8,
   "metadata": {},
   "outputs": [],
   "source": [
    "def plot_user_curve(x, y):\n",
    "    plt.plot(x, y)\n",
    "    plt.title(\"User\")\n",
    "    plt.xlabel(\"Daily budget\")\n",
    "    plt.xlim((0, max_budget))\n",
    "    plt.ylabel(\"Clicks\")\n",
    "    plt.show()"
   ]
  },
  {
   "cell_type": "code",
   "execution_count": 51,
   "metadata": {},
   "outputs": [],
   "source": [
    "def generate_subcampaign(bid, max_budget, prob):\n",
    "    n_user = len(prob)\n",
    "    \n",
    "    # Slope for each user curve.\n",
    "    slopes = [-0.1*(1), -0.1*(2), -0.1*(3)]\n",
    "\n",
    "    # Generate a curve for each user.\n",
    "    user_curves = []\n",
    "    for user in range(n_user):\n",
    "        user_curve = generate_clicks_curve(bid, max_budget, slopes[user])\n",
    "        user_curves.append(user_curve)\n",
    "    \n",
    "    # Create subcampaign curve.\n",
    "    x_subc = user_curves[0][0]\n",
    "    y_subc = []\n",
    "    \n",
    "    for i in range(len(x_subc)):\n",
    "        y_temp = user_curves[0][1][i]*prob[0] + user_curves[1][1][i]*prob[1] + user_curves[2][1][i]*prob[2]\n",
    "        y_subc.append(y_temp)\n",
    "        \n",
    "    plot_subc_curve(x_subc, y_subc)\n",
    "        \n",
    "    return (x_subc, y_subc)"
   ]
  },
  {
   "cell_type": "code",
   "execution_count": 52,
   "metadata": {},
   "outputs": [],
   "source": [
    "def plot_subc_curve(x, y):\n",
    "    plt.plot(x, y)\n",
    "    plt.title(\"Subcampaign\")\n",
    "    plt.xlabel(\"Daily budget\")\n",
    "    plt.xlim((0, max_budget))\n",
    "    plt.ylabel(\"Clicks\")\n",
    "    plt.show()"
   ]
  },
  {
   "cell_type": "code",
   "execution_count": 55,
   "metadata": {},
   "outputs": [],
   "source": [
    "# Number of users targeted by the campaign.\n",
    "n_user = 3\n",
    "\n",
    "# For each subcampaign, assign probabilities that a certain user curve is sampled.\n",
    "subcampaigns = [\n",
    "    [0.80, 0.10, 0.10],\n",
    "    #[0.50, 0.40, 0.10],\n",
    "    #[0.20, 0.50, 0.30],\n",
    "    #[0.20, 0.20, 0.60],\n",
    "    #[0.33, 0.33, 0.34]\n",
    "]"
   ]
  },
  {
   "cell_type": "code",
   "execution_count": 56,
   "metadata": {
    "colab": {
     "base_uri": "https://localhost:8080/",
     "height": 852
    },
    "colab_type": "code",
    "id": "Jk1H42FcfGEV",
    "outputId": "d357c1cd-a1c2-4440-cfc7-798078c42cf3"
   },
   "outputs": [
    {
     "data": {
      "image/png": "[encoded data removed]",
      "text/plain": [
       "<Figure size 432x288 with 1 Axes>"
      ]
     },
     "metadata": {
      "needs_background": "light"
     },
     "output_type": "display_data"
    },
    {
     "data": {
      "image/png": "[encoded data removed]",
      "text/plain": [
       "<Figure size 432x288 with 1 Axes>"
      ]
     },
     "metadata": {
      "needs_background": "light"
     },
     "output_type": "display_data"
    },
    {
     "data": {
      "image/png": "[encoded data removed]",
      "text/plain": [
       "<Figure size 432x288 with 1 Axes>"
      ]
     },
     "metadata": {
      "needs_background": "light"
     },
     "output_type": "display_data"
    },
    {
     "data": {
      "image/png": "[encoded data removed]",
      "text/plain": [
       "<Figure size 432x288 with 1 Axes>"
      ]
     },
     "metadata": {
      "needs_background": "light"
     },
     "output_type": "display_data"
    }
   ],
   "source": [
    "num_click = np.array([])\n",
    "\n",
    "for subc in subcampaigns:\n",
    "    bid = 10*(1)\n",
    "    max_budget = 70\n",
    "    \n",
    "    x, y = generate_subcampaign(bid, max_budget, subc)"
   ]
  },
  {
   "cell_type": "markdown",
   "metadata": {
    "colab_type": "text",
    "id": "an1NQw9sfGEY"
   },
   "source": [
    "## Curve aggregation"
   ]
  },
  {
   "cell_type": "code",
   "execution_count": 0,
   "metadata": {
    "colab": {},
    "colab_type": "code",
    "id": "dyr7HTh3fGEZ"
   },
   "outputs": [],
   "source": [
    "n_inf = float(\"-inf\")\n",
    "class Subcampaign:\n",
    "    def __init__(self, bid, min_budget, max_budget, number_of_clicks):\n",
    "        self.bid = bid\n",
    "        self.min_budget = min_budget\n",
    "        self.max_budget = max_budget\n",
    "        self.number_of_clicks = number_of_clicks #function\n",
    "    \n",
    "    # x is budget\n",
    "    def n(self,x):\n",
    "        if x < self.min_budget:\n",
    "            return n_inf\n",
    "        elif x < self.bid:\n",
    "            return 0\n",
    "        elif x > self.max_budget:\n",
    "            return n_inf\n",
    "        else:\n",
    "            return self.number_of_clicks(x)"
   ]
  },
  {
   "cell_type": "markdown",
   "metadata": {
    "colab_type": "text",
    "id": "sWqAIhi3fGEa"
   },
   "source": [
    "### Init subcampaigns"
   ]
  },
  {
   "cell_type": "code",
   "execution_count": 0,
   "metadata": {
    "colab": {},
    "colab_type": "code",
    "id": "86bB7-AEfGEb"
   },
   "outputs": [],
   "source": [
    "subcampaigns = np.array([])\n",
    "\n",
    "bid_1 = 2\n",
    "bid_2 = 1\n",
    "bid_3 = 0.5\n",
    "bid_4 = 0.5\n",
    "bid_5 = 1\n",
    "\n",
    "n1 = partial(user_clicks, bid_1, slopes[0])\n",
    "n2 = partial(user_clicks, bid_2, slopes[2])\n",
    "n3 = partial(user_clicks, bid_3, slopes[0])\n",
    "n4 = partial(user_clicks, bid_4, slopes[1])\n",
    "n5 = partial(user_clicks, bid_5, slopes[2])\n",
    "\n",
    "subcampaigns = np.append(subcampaigns, Subcampaign(bid_1, 0, 40, n1))\n",
    "subcampaigns = np.append(subcampaigns, Subcampaign(bid_2, 0, 30, n2))\n",
    "subcampaigns = np.append(subcampaigns, Subcampaign(bid_3, 0, 40, n3))\n",
    "subcampaigns = np.append(subcampaigns, Subcampaign(bid_4, 0, 50, n4))\n",
    "subcampaigns = np.append(subcampaigns, Subcampaign(bid_5, 0, 60, n5))"
   ]
  },
  {
   "cell_type": "markdown",
   "metadata": {
    "colab_type": "text",
    "id": "RuGVNWIBfGEd"
   },
   "source": [
    "### Init possible values of budget"
   ]
  },
  {
   "cell_type": "code",
   "execution_count": 0,
   "metadata": {
    "colab": {},
    "colab_type": "code",
    "id": "TGMdjlgQfGEd"
   },
   "outputs": [],
   "source": [
    "budgets = np.linspace(0.0, 70.0, 8)"
   ]
  },
  {
   "cell_type": "markdown",
   "metadata": {
    "colab_type": "text",
    "id": "b2Fg5LI-fGEg"
   },
   "source": [
    "### First step: choice of bid\n",
    "Being that we have only one bid for each subcampaign, it is not necessary. I just fill the table with the resulting values"
   ]
  },
  {
   "cell_type": "code",
   "execution_count": 0,
   "metadata": {
    "colab": {},
    "colab_type": "code",
    "id": "yI66vYNrfGEg"
   },
   "outputs": [],
   "source": [
    "init_table = np.zeros(shape=(len(subcampaigns),len(budgets)))\n",
    "index_s = 0\n",
    "for s in subcampaigns:\n",
    "    row = []\n",
    "    for b in budgets:\n",
    "        row.append(s.n(x=b))\n",
    "    init_table[index_s] = row\n",
    "    index_s = index_s+1"
   ]
  },
  {
   "cell_type": "code",
   "execution_count": 75,
   "metadata": {
    "colab": {
     "base_uri": "https://localhost:8080/",
     "height": 193
    },
    "colab_type": "code",
    "id": "VXxpXn2WfGEj",
    "outputId": "119a708e-5f24-4ae0-dab3-7b8fde6f2d0f"
   },
   "outputs": [
    {
     "name": "stdout",
     "output_type": "stream",
     "text": [
      "[[0.         2.00486515 6.27545628 6.61986093 9.58611538       -inf\n",
      "        -inf       -inf]\n",
      " [0.         9.33764808 9.98889853 9.99773421       -inf       -inf\n",
      "        -inf       -inf]\n",
      " [0.         7.80617492 8.34166971 9.41542166 9.77285508       -inf\n",
      "        -inf       -inf]\n",
      " [0.         8.59127908 9.7838681  9.90961706 9.59133259 9.9999563\n",
      "        -inf       -inf]\n",
      " [0.         9.02080883 9.9270311  9.9975744  9.9999815  9.99999426\n",
      "  9.99999829       -inf]]\n"
     ]
    }
   ],
   "source": [
    "print(init_table)"
   ]
  },
  {
   "cell_type": "markdown",
   "metadata": {
    "colab_type": "text",
    "id": "B4yXmp_BfGEo"
   },
   "source": [
    "### Second step: instance budget for each subcampaign"
   ]
  },
  {
   "cell_type": "code",
   "execution_count": 0,
   "metadata": {
    "colab": {},
    "colab_type": "code",
    "id": "kY-5_3hzfGEp"
   },
   "outputs": [],
   "source": [
    "table_result = np.array([])\n",
    "previous_row = np.zeros(len(budgets))\n",
    "# considero budget b. Per quell'iterazione, considero tutti i budget della subcampaign b_s s.t. b >= budget(previous_row) + budget(subcampaign)\n",
    "index_s = 0\n",
    "for s in subcampaigns:\n",
    "    index_b = 0\n",
    "    results = np.array([])  # array representing solution when adding subcampaign s\n",
    "    for b in budgets:\n",
    "        # when I am in subcampaign s, I have previous row containing the best allocation for each budget value\n",
    "        # fill array of choices of budget for pair (s, b). A choice is to be considered if budget\n",
    "        choices = np.array([])\n",
    "        # selezionare gli indici di previous_row che sono sotto a budget\n",
    "        filtered_choices_pr = previous_row[0:index_b+1]#lista temporanea contenente i casi di previous_row che sono associati ad un budget complementare\n",
    "        #print(filtered_choices_pr)\n",
    "        # selezionare per ogni valore di filtered_choices_pr l'associato della riga della subcampaign\n",
    "        for i in range(0, len(filtered_choices_pr)):\n",
    "            num_click_pr = previous_row[i]\n",
    "            # find index for associated complementary budget\n",
    "            j = np.where(budgets+budgets[i] == b)\n",
    "            j = j[0][0]\n",
    "            #print(i,j)\n",
    "            current_num_click_s = init_table[index_s][j]\n",
    "            choices = np.append(choices, current_num_click_s + num_click_pr)\n",
    "            #print(current_num_click_s, num_click_pr)\n",
    "        \n",
    "        #print(choices)\n",
    "        # find maximum\n",
    "        max_val = np.amax(choices)\n",
    "        results = np.append(results, max_val)                \n",
    "        index_b = index_b + 1\n",
    "        \n",
    "    #table_result = np.put(table_result, index_s, results)\n",
    "    table_result = np.concatenate((table_result, results), axis=0)\n",
    "    previous_row = results\n",
    "    index_s = index_s + 1\n",
    "\n",
    "table_result = table_result.reshape(len(subcampaigns), len(budgets))"
   ]
  },
  {
   "cell_type": "code",
   "execution_count": 77,
   "metadata": {
    "colab": {
     "base_uri": "https://localhost:8080/",
     "height": 193
    },
    "colab_type": "code",
    "id": "_wLsW9CAfGEq",
    "outputId": "2e67b153-9401-4978-d16c-804ec38b5d6c"
   },
   "outputs": [
    {
     "name": "stdout",
     "output_type": "stream",
     "text": [
      "[[ 0.          2.00486515  6.27545628  6.61986093  9.58611538  9.58611538\n",
      "   9.58611538  9.58611538]\n",
      " [ 0.          9.33764808 11.34251323 15.61310435 16.26435481 18.92376345\n",
      "  19.57501391 19.58384959]\n",
      " [ 0.          9.33764808 17.143823   19.14868815 23.41927928 24.07052973\n",
      "  26.72993838 27.38118883]\n",
      " [ 0.          9.33764808 17.92892715 25.73510208 27.73996723 32.01055835\n",
      "  33.20314738 35.32121745]\n",
      " [ 0.          9.33764808 18.35845691 26.94973598 34.75591091 36.76077606\n",
      "  41.03136718 42.22395621]]\n"
     ]
    }
   ],
   "source": [
    "print(table_result)"
   ]
  },
  {
   "cell_type": "code",
   "execution_count": 78,
   "metadata": {
    "colab": {
     "base_uri": "https://localhost:8080/",
     "height": 286
    },
    "colab_type": "code",
    "id": "R-TXJO6TfGEt",
    "outputId": "04428da2-8677-4506-ec44-493987dc0de8"
   },
   "outputs": [
    {
     "data": {
      "text/plain": [
       "[<matplotlib.lines.Line2D at 0x7fb38eae6908>]"
      ]
     },
     "execution_count": 78,
     "metadata": {
      "tags": []
     },
     "output_type": "execute_result"
    },
    {
     "data": {
      "image/png": "[encoded data removed]",
      "text/plain": [
       "<Figure size 432x288 with 1 Axes>"
      ]
     },
     "metadata": {
      "tags": []
     },
     "output_type": "display_data"
    }
   ],
   "source": [
    "plt.plot(budgets, table_result[-1])"
   ]
  },
  {
   "cell_type": "markdown",
   "metadata": {
    "colab_type": "text",
    "id": "iNZGEB-ofGEv"
   },
   "source": [
    "### 3. Be given a cumulative daily budget constraint. Be also given a discretisation for the daily budget values. Apply the Combinatorial-GP-TS to the aggregate curve (we are implicitly assuming that the bidding is performed automatically by the advertising platform) and report how the regret varies in time."
   ]
  },
  {
   "cell_type": "code",
   "execution_count": 0,
   "metadata": {
    "colab": {},
    "colab_type": "code",
    "id": "74016cnnfGEv"
   },
   "outputs": [],
   "source": [
    "from sklearn.gaussian_process import GaussianProcessRegressor\n",
    "from sklearn.gaussian_process.kernels import RBF, ConstantKernel as C"
   ]
  },
  {
   "cell_type": "code",
   "execution_count": 0,
   "metadata": {
    "colab": {},
    "colab_type": "code",
    "id": "ub2Ig7K1fGEx"
   },
   "outputs": [],
   "source": [
    "class Learner():\n",
    "\n",
    "    def __init__(self, n_arms):\n",
    "        self.n_arms = n_arms\n",
    "        self.t = 0\n",
    "        self.rewards_per_arm = x = [[] for i in range(n_arms)]\n",
    "        self.collected_rewards = np.array([])\n",
    "\n",
    "    def update_observations(self, pulled_arm, reward):\n",
    "        self.rewards_per_arm[pulled_arm].append(reward)\n",
    "        self.collected_rewards = np.append(self.collected_rewards,reward)"
   ]
  },
  {
   "cell_type": "code",
   "execution_count": 0,
   "metadata": {
    "colab": {},
    "colab_type": "code",
    "id": "jl0tbHtgfGEz"
   },
   "outputs": [],
   "source": [
    "class GPTS_Learner(Learner):\n",
    "  \n",
    "    def __init__(self, n_arms, arms):\n",
    "        super().__init__(n_arms)\n",
    "        self.arms = arms\n",
    "        self.means = np.zeros(n_arms)\n",
    "        self.sigmas = np.ones(n_arms) * 10\n",
    "        self.pulled_arms = []\n",
    "        alpha = 10.0\n",
    "\n",
    "        kernel = C(1.0, (1e-3, 1e3)) * RBF(1.0, (1e-3, 1e3))\n",
    "        self.gp = GaussianProcessRegressor(kernel=kernel, alpha=alpha ** 2, normalize_y=True, n_restarts_optimizer=9)\n",
    "\n",
    "    def update_observations(self, arm_idx, reward):\n",
    "        super().update_observations(arm_idx, reward)\n",
    "        self.pulled_arms.append(self.arms[arm_idx])\n",
    "\n",
    "    def update_model(self):\n",
    "        # Split pulled_arms in elements with at least 2 arrays each one.\n",
    "\n",
    "        x = np.atleast_2d(self.pulled_arms).T\n",
    "        y = self.collected_rewards\n",
    "        # X: Training Data\n",
    "        # Y: Target Values\n",
    "        self.gp.fit(x, y)\n",
    "        self.means, self.sigmas = self.gp.predict(np.atleast_2d(self.arms).T, return_std=True)\n",
    "        self.sigmas = np.maximum(self.sigmas, 1e-2)\n",
    "\n",
    "    def update(self, pulled_arm, reward):\n",
    "        self.t += 1\n",
    "        self.update_observations(pulled_arm, reward)\n",
    "        self.update_model()\n",
    "\n",
    "    def pull_arm(self):\n",
    "        sampled_values = np.random.normal(self.means, self.sigmas)\n",
    "        return np.argmax(sampled_values)"
   ]
  },
  {
   "cell_type": "code",
   "execution_count": 0,
   "metadata": {
    "colab": {},
    "colab_type": "code",
    "id": "tt2vmYCbfGE2"
   },
   "outputs": [],
   "source": [
    "class Environment():\n",
    "    def __init__(self, daily_budgets, sigma):\n",
    "        self.daily_budgets = daily_budgets\n",
    "        self.means = table_result[-1]\n",
    "        self.sigmas = np.ones(len(daily_budgets))*sigma\n",
    "\n",
    "    def round(self, pulled_arm):\n",
    "        return np.random.normal(self.means[pulled_arm],self.sigmas[pulled_arm])"
   ]
  },
  {
   "cell_type": "code",
   "execution_count": 83,
   "metadata": {
    "colab": {
     "base_uri": "https://localhost:8080/",
     "height": 283
    },
    "colab_type": "code",
    "id": "94z6vwpAfGE4",
    "outputId": "188866a5-ea28-40ff-dd7b-9c8db417caac"
   },
   "outputs": [
    {
     "data": {
      "image/png": "[encoded data removed]",
      "text/plain": [
       "<Figure size 432x288 with 1 Axes>"
      ]
     },
     "metadata": {
      "tags": []
     },
     "output_type": "display_data"
    }
   ],
   "source": [
    "sigma = 10\n",
    "\n",
    "T = 40\n",
    "\n",
    "n_experiments = 30\n",
    "gpts_rewards_per_experiment = []\n",
    "\n",
    "for e in range(0, n_experiments):\n",
    "    env = Environment(daily_budgets=budgets, sigma=sigma)\n",
    "    gpts_learner = GPTS_Learner(n_arms=len(budgets), arms=budgets)\n",
    "\n",
    "    for t in range(0, T):\n",
    "        pulled_arm = gpts_learner.pull_arm()\n",
    "        reward = env.round(pulled_arm)\n",
    "        gpts_learner.update(pulled_arm, reward)\n",
    "\n",
    "    gpts_rewards_per_experiment.append(gpts_learner.collected_rewards)\n",
    "\n",
    "opt = np.max(env.means)\n",
    "plt.figure(0)\n",
    "plt.xlabel(\"t\")\n",
    "plt.ylabel(\"Regret\")\n",
    "plt.plot(np.cumsum(np.mean(opt - gpts_rewards_per_experiment, axis=0)), 'g')  # Green color for GPTS\n",
    "plt.legend([\"GPTS\"])\n",
    "plt.show()"
   ]
  },
  {
   "cell_type": "markdown",
   "metadata": {
    "colab_type": "text",
    "id": "3nOAMrHSfGE6"
   },
   "source": [
    "### 4. Focus on a single sub-campaign. Report the the average regression error of the GP as the number of samples increases. The regression error is the maximum error among all the possible arms."
   ]
  },
  {
   "cell_type": "code",
   "execution_count": 90,
   "metadata": {
    "colab": {
     "base_uri": "https://localhost:8080/",
     "height": 2050
    },
    "colab_type": "code",
    "id": "t3JZe5CypScI",
    "outputId": "12fb734b-353e-4a69-fb93-9146bf4d4dc3"
   },
   "outputs": [
    {
     "name": "stdout",
     "output_type": "stream",
     "text": [
      "0\n",
      "1\n",
      "2\n",
      "3\n",
      "4\n",
      "5\n",
      "6\n",
      "7\n",
      "8\n",
      "9\n",
      "10\n",
      "11\n",
      "12\n",
      "13\n",
      "14\n",
      "15\n",
      "16\n",
      "17\n",
      "18\n",
      "19\n",
      "20\n",
      "21\n",
      "22\n",
      "23\n",
      "24\n",
      "25\n",
      "26\n",
      "27\n",
      "28\n",
      "29\n",
      "30\n",
      "31\n",
      "32\n",
      "33\n",
      "34\n",
      "35\n",
      "36\n",
      "37\n",
      "38\n",
      "39\n",
      "40\n",
      "41\n",
      "42\n",
      "43\n",
      "44\n",
      "45\n",
      "46\n",
      "47\n",
      "48\n",
      "49\n",
      "50\n",
      "51\n",
      "52\n",
      "53\n",
      "54\n",
      "55\n",
      "56\n",
      "57\n",
      "58\n",
      "59\n",
      "60\n",
      "61\n",
      "62\n",
      "63\n",
      "64\n",
      "65\n",
      "66\n",
      "67\n",
      "68\n",
      "69\n",
      "70\n",
      "71\n",
      "72\n",
      "73\n",
      "74\n",
      "75\n",
      "76\n",
      "77\n",
      "78\n",
      "79\n",
      "80\n",
      "81\n",
      "82\n",
      "83\n",
      "84\n",
      "85\n",
      "86\n",
      "87\n",
      "88\n",
      "89\n",
      "90\n",
      "91\n",
      "92\n",
      "93\n",
      "94\n",
      "95\n",
      "96\n",
      "97\n",
      "98\n",
      "99\n"
     ]
    },
    {
     "data": {
      "image/png": "[encoded data removed]",
      "text/plain": [
       "<Figure size 432x288 with 1 Axes>"
      ]
     },
     "metadata": {
      "tags": []
     },
     "output_type": "display_data"
    }
   ],
   "source": [
    "# from filip bidding env\n",
    "sigma = 10\n",
    "\n",
    "T = 40\n",
    "\n",
    "n_experiments = 100\n",
    "gpts_rewards_per_experiment = []\n",
    "gaussian_error_per_experiment = []\n",
    "\n",
    "for e in range(0, n_experiments):\n",
    "    print(e)\n",
    "    env = Environment(daily_budgets=budgets, sigma=sigma)\n",
    "    gpts_learner = GPTS_Learner(n_arms=len(budgets), arms=budgets)\n",
    "    gpts_errors = []\n",
    "\n",
    "    for t in range(0, T):\n",
    "        pulled_arm = gpts_learner.pull_arm()\n",
    "        reward = env.round(pulled_arm)\n",
    "        gpts_learner.update(pulled_arm, reward)\n",
    "        gpts_errors.append(np.max(np.absolute((env.means - gpts_learner.means)/(env.means+0.000001))))\n",
    "\n",
    "    gpts_rewards_per_experiment.append(gpts_learner.collected_rewards)\n",
    "    gaussian_error_per_experiment.append(gpts_errors)\n",
    "\n",
    "plt.figure(0)\n",
    "plt.xlabel(\"t\")\n",
    "plt.ylabel(\"Regression Error\")\n",
    "plt.plot(np.mean(gaussian_error_per_experiment, axis=0), 'g')\n",
    "plt.legend([\"GPTS\"])\n",
    "plt.show()"
   ]
  },
  {
   "cell_type": "markdown",
   "metadata": {
    "colab_type": "text",
    "id": "doT5hfsMfGE7"
   },
   "source": [
    "### 5. Suppose to apply, the first day of every week, an algorithm to identify contexts and, therefore, to disaggregate the curves if doing that is the best we can do. And, if such an algorithm suggests disaggregating the curve at time t, then, from t on, keep such curves disaggregate. In order to disaggregate the curve, it is necessary to reason on the features and the values of the features. Apply the Combinatorial-GP-TS algorithm and show, in a plot, how the regret and the reward vary in time (also comparing the regret and the reward of these algorithms with those obtained when the algorithms are applied to the aggregate curve)."
   ]
  },
  {
   "cell_type": "code",
   "execution_count": 0,
   "metadata": {
    "colab": {},
    "colab_type": "code",
    "id": "cHRSFMIWfGE8"
   },
   "outputs": [],
   "source": []
  }
 ],
 "metadata": {
  "accelerator": "GPU",
  "colab": {
   "collapsed_sections": [],
   "name": "DIA Project - Part 3.ipynb",
   "provenance": [],
   "version": "0.3.2"
  },
  "kernelspec": {
   "display_name": "Python 3",
   "language": "python",
   "name": "python3"
  },
  "language_info": {
   "codemirror_mode": {
    "name": "ipython",
    "version": 3
   },
   "file_extension": ".py",
   "mimetype": "text/x-python",
   "name": "python",
   "nbconvert_exporter": "python",
   "pygments_lexer": "ipython3",
   "version": "3.7.3"
  }
 },
 "nbformat": 4,
 "nbformat_minor": 1
}
