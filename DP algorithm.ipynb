{
 "cells": [
  {
   "cell_type": "code",
   "execution_count": 1,
   "metadata": {},
   "outputs": [],
   "source": [
    "import numpy as np\n",
    "import matplotlib.pyplot as plt"
   ]
  },
  {
   "cell_type": "code",
   "execution_count": 2,
   "metadata": {},
   "outputs": [],
   "source": [
    "n_inf = float(\"-inf\")\n",
    "class Subcampaign:\n",
    "    def __init__(self, bid, min_budget, max_budget, number_of_clicks):\n",
    "        self.bid = bid\n",
    "        self.min_budget = min_budget\n",
    "        self.max_budget = max_budget\n",
    "        self.number_of_clicks = number_of_clicks #function\n",
    "    \n",
    "    # x is budget\n",
    "    def n(self,x):\n",
    "        if x < self.min_budget:\n",
    "            return n_inf\n",
    "        elif x < self.bid:\n",
    "            return 0\n",
    "        elif x > self.max_budget:\n",
    "            return n_inf\n",
    "        else:\n",
    "            return self.number_of_clicks(x)"
   ]
  },
  {
   "cell_type": "code",
   "execution_count": 3,
   "metadata": {},
   "outputs": [],
   "source": [
    "def n1(x):\n",
    "    return x * 2\n",
    "def n2(x):\n",
    "    return x * 3\n",
    "def n3(x):\n",
    "    return x\n",
    "def n4(x):\n",
    "    return x * 4\n",
    "def n5(x):\n",
    "    return x * 7"
   ]
  },
  {
   "cell_type": "markdown",
   "metadata": {},
   "source": [
    "# Init of subcampaigns"
   ]
  },
  {
   "cell_type": "code",
   "execution_count": 4,
   "metadata": {},
   "outputs": [],
   "source": [
    "subcampaigns = np.array([])\n",
    "subcampaigns = np.append(subcampaigns, Subcampaign(2, 0, 50, n1))\n",
    "subcampaigns = np.append(subcampaigns, Subcampaign(1, 0, 20, n2))\n",
    "subcampaigns = np.append(subcampaigns, Subcampaign(0.5, 0, 30, n3))\n",
    "subcampaigns = np.append(subcampaigns, Subcampaign(0.5, 0, 40, n4))\n",
    "subcampaigns = np.append(subcampaigns, Subcampaign(1, 0, 30, n5))"
   ]
  },
  {
   "cell_type": "markdown",
   "metadata": {},
   "source": [
    "# Init budget possible values"
   ]
  },
  {
   "cell_type": "code",
   "execution_count": 5,
   "metadata": {},
   "outputs": [],
   "source": [
    "budgets = np.linspace(0.0, 50.0, 11)"
   ]
  },
  {
   "cell_type": "markdown",
   "metadata": {},
   "source": [
    "# First step: choice of bid\n",
    "Being that we have only one bid for each subcampaign, it is not necessary. I just fill the table with the resulting values"
   ]
  },
  {
   "cell_type": "code",
   "execution_count": 6,
   "metadata": {},
   "outputs": [],
   "source": [
    "init_table = np.zeros(shape=(len(subcampaigns),len(budgets)))\n",
    "index_s = 0\n",
    "for s in subcampaigns:\n",
    "    row = []\n",
    "    for b in budgets:\n",
    "        row.append(s.n(b))\n",
    "    init_table[index_s]=row\n",
    "    index_s = index_s+1"
   ]
  },
  {
   "cell_type": "code",
   "execution_count": 7,
   "metadata": {},
   "outputs": [
    {
     "name": "stdout",
     "output_type": "stream",
     "text": [
      "[[  0.  10.  20.  30.  40.  50.  60.  70.  80.  90. 100.]\n",
      " [  0.  15.  30.  45.  60. -inf -inf -inf -inf -inf -inf]\n",
      " [  0.   5.  10.  15.  20.  25.  30. -inf -inf -inf -inf]\n",
      " [  0.  20.  40.  60.  80. 100. 120. 140. 160. -inf -inf]\n",
      " [  0.  35.  70. 105. 140. 175. 210. -inf -inf -inf -inf]]\n"
     ]
    }
   ],
   "source": [
    "print(init_table)"
   ]
  },
  {
   "cell_type": "markdown",
   "metadata": {},
   "source": [
    "# Second step: instance budget for each subcampaign"
   ]
  },
  {
   "cell_type": "code",
   "execution_count": 8,
   "metadata": {},
   "outputs": [],
   "source": [
    "table_result = np.array([])\n",
    "previous_row = np.zeros(len(budgets))\n",
    "# considero budget b. Per quell'iterazione, considero tutti i budget della subcampaign b_s s.t. b >= budget(previous_row) + budget(subcampaign)\n",
    "index_s = 0\n",
    "for s in subcampaigns:\n",
    "    index_b = 0\n",
    "    results = np.array([])  # array representing solution when adding subcampaign s\n",
    "    for b in budgets:\n",
    "        # when I am in subcampaign s, I have previous row containing the best allocation for each budget value\n",
    "        # fill array of choices of budget for pair (s, b). A choice is to be considered if budget\n",
    "        choices = np.array([])\n",
    "        # selezionare gli indici di previous_row che sono sotto a budget\n",
    "        filtered_choices_pr = previous_row[0:index_b+1]#lista temporanea contenente i casi di previous_row che sono associati ad un budget complementare\n",
    "        # selezionare per ogni valore di filtered_choices_pr l'associato della riga della subcampaign\n",
    "        for i in range(0, len(filtered_choices_pr)):\n",
    "            num_click_pr = previous_row[i]\n",
    "            # find index for associated complementary budget\n",
    "            j = np.where(budgets+budgets[i] == b)\n",
    "            j = j[0][0]\n",
    "            current_num_click_s = init_table[index_s][j]\n",
    "            choices = np.append(choices, current_num_click_s + num_click_pr)\n",
    "        \n",
    "        # find maximum\n",
    "        max_val = np.amax(choices)\n",
    "        results = np.append(results, max_val)                \n",
    "        index_b = index_b + 1\n",
    "        \n",
    "    #table_result = np.put(table_result, index_s, results)\n",
    "    table_result = np.concatenate((table_result, results), axis=0)\n",
    "    index_s = index_s + 1\n",
    "\n",
    "table_result = table_result.reshape(len(subcampaigns), len(budgets))"
   ]
  },
  {
   "cell_type": "code",
   "execution_count": 9,
   "metadata": {},
   "outputs": [
    {
     "data": {
      "text/plain": [
       "[<matplotlib.lines.Line2D at 0x1e8a7838da0>]"
      ]
     },
     "execution_count": 9,
     "metadata": {},
     "output_type": "execute_result"
    },
    {
     "data": {
      "image/png": "[encoded data removed]",
      "text/plain": [
       "<Figure size 432x288 with 1 Axes>"
      ]
     },
     "metadata": {
      "needs_background": "light"
     },
     "output_type": "display_data"
    }
   ],
   "source": [
    "plt.plot(budgets, table_result[-1])"
   ]
  },
  {
   "cell_type": "code",
   "execution_count": null,
   "metadata": {},
   "outputs": [],
   "source": []
  }
 ],
 "metadata": {
  "kernelspec": {
   "display_name": "Python 3",
   "language": "python",
   "name": "python3"
  },
  "language_info": {
   "codemirror_mode": {
    "name": "ipython",
    "version": 3
   },
   "file_extension": ".py",
   "mimetype": "text/x-python",
   "name": "python",
   "nbconvert_exporter": "python",
   "pygments_lexer": "ipython3",
   "version": "3.7.0"
  }
 },
 "nbformat": 4,
 "nbformat_minor": 2
}
