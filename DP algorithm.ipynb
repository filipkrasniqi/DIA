{
 "cells": [
  {
   "cell_type": "code",
   "execution_count": 1,
   "metadata": {},
   "outputs": [],
   "source": [
    "import numpy as np\n",
    "import matplotlib.pyplot as plt"
   ]
  },
  {
   "cell_type": "code",
   "execution_count": 2,
   "metadata": {},
   "outputs": [],
   "source": [
    "n_inf = float(\"-inf\")\n",
    "class Subcampaign:\n",
    "    def __init__(self, bid, min_budget, max_budget, number_of_clicks):\n",
    "        self.bid = bid\n",
    "        self.min_budget = min_budget\n",
    "        self.max_budget = max_budget\n",
    "        self.number_of_clicks = number_of_clicks #function\n",
    "    \n",
    "    # x is budget\n",
    "    def n(self,x):\n",
    "        if x < self.min_budget:\n",
    "            return n_inf\n",
    "        elif x < self.bid:\n",
    "            return 0\n",
    "        elif x > self.max_budget:\n",
    "            return n_inf\n",
    "        else:\n",
    "            return self.number_of_clicks(x)"
   ]
  },
  {
   "cell_type": "code",
   "execution_count": 3,
   "metadata": {},
   "outputs": [],
   "source": [
    "def n1(x):\n",
    "    return x * 2\n",
    "def n2(x):\n",
    "    return x * 3\n",
    "def n3(x):\n",
    "    return x\n",
    "def n4(x):\n",
    "    return x * 4\n",
    "def n5(x):\n",
    "    return x * 7"
   ]
  },
  {
   "cell_type": "markdown",
   "metadata": {},
   "source": [
    "# Functions to simulate example in slides"
   ]
  },
  {
   "cell_type": "code",
   "execution_count": 14,
   "metadata": {},
   "outputs": [],
   "source": [
    "def n1(x):\n",
    "    y = [n_inf, 90, 100, 105, 110]\n",
    "    return y[int(x/10)]\n",
    "def n2(x):\n",
    "    y = [0, 82, 90, 92]\n",
    "    return y[int(x/10)]\n",
    "def n3(x):\n",
    "    y = [0, 80, 83, 85,86]\n",
    "    return y[int(x/10)]\n",
    "def n4(x):\n",
    "    y = [n_inf, 90, 110, 115, 118, 120]\n",
    "    return y[int(x/10)]\n",
    "def n5(x):\n",
    "    y = [n_inf, 111, 130, 138, 142, 148, 155]\n",
    "    return y[int(x/10)]"
   ]
  },
  {
   "cell_type": "markdown",
   "metadata": {},
   "source": [
    "# Init of subcampaigns"
   ]
  },
  {
   "cell_type": "code",
   "execution_count": 15,
   "metadata": {},
   "outputs": [],
   "source": [
    "subcampaigns = np.array([])\n",
    "'''\n",
    "subcampaigns = np.append(subcampaigns, Subcampaign(2, 0, 50, n1))\n",
    "subcampaigns = np.append(subcampaigns, Subcampaign(1, 0, 20, n2))\n",
    "subcampaigns = np.append(subcampaigns, Subcampaign(0.5, 0, 30, n3))\n",
    "subcampaigns = np.append(subcampaigns, Subcampaign(0.5, 0, 40, n4))\n",
    "subcampaigns = np.append(subcampaigns, Subcampaign(1, 0, 30, n5))\n",
    "'''\n",
    "subcampaigns = np.append(subcampaigns, Subcampaign(2, 10, 40, n1))\n",
    "subcampaigns = np.append(subcampaigns, Subcampaign(1, 0, 30, n2))\n",
    "subcampaigns = np.append(subcampaigns, Subcampaign(0.5, 0, 40, n3))\n",
    "subcampaigns = np.append(subcampaigns, Subcampaign(0.5, 10, 50, n4))\n",
    "subcampaigns = np.append(subcampaigns, Subcampaign(1, 10, 60, n5))"
   ]
  },
  {
   "cell_type": "markdown",
   "metadata": {},
   "source": [
    "# Init budget possible values"
   ]
  },
  {
   "cell_type": "code",
   "execution_count": 16,
   "metadata": {},
   "outputs": [],
   "source": [
    "budgets = np.linspace(0.0, 70.0, 8)"
   ]
  },
  {
   "cell_type": "markdown",
   "metadata": {},
   "source": [
    "# First step: choice of bid\n",
    "Being that we have only one bid for each subcampaign, it is not necessary. I just fill the table with the resulting values"
   ]
  },
  {
   "cell_type": "code",
   "execution_count": 17,
   "metadata": {},
   "outputs": [],
   "source": [
    "init_table = np.zeros(shape=(len(subcampaigns),len(budgets)))\n",
    "index_s = 0\n",
    "for s in subcampaigns:\n",
    "    row = []\n",
    "    for b in budgets:\n",
    "        row.append(s.n(b))\n",
    "    init_table[index_s]=row\n",
    "    index_s = index_s+1"
   ]
  },
  {
   "cell_type": "code",
   "execution_count": 18,
   "metadata": {},
   "outputs": [
    {
     "name": "stdout",
     "output_type": "stream",
     "text": [
      "[[-inf  90. 100. 105. 110. -inf -inf -inf]\n",
      " [  0.  82.  90.  92. -inf -inf -inf -inf]\n",
      " [  0.  80.  83.  85.  86. -inf -inf -inf]\n",
      " [-inf  90. 110. 115. 118. 120. -inf -inf]\n",
      " [-inf 111. 130. 138. 142. 148. 155. -inf]]\n"
     ]
    }
   ],
   "source": [
    "print(init_table)"
   ]
  },
  {
   "cell_type": "markdown",
   "metadata": {},
   "source": [
    "# Second step: instance budget for each subcampaign"
   ]
  },
  {
   "cell_type": "code",
   "execution_count": 41,
   "metadata": {},
   "outputs": [
    {
     "name": "stdout",
     "output_type": "stream",
     "text": [
      "0\n",
      "\n",
      "[0. 0. 0. 0. 0. 0. 0. 0.]\n",
      "\n",
      "[-inf  90. 100. 105. 110. -inf -inf -inf]\n",
      "\n",
      "1\n",
      "\n",
      "[-inf  90. 100. 105. 110. -inf -inf -inf]\n",
      "\n",
      "[  0.  82.  90.  92. -inf -inf -inf -inf]\n",
      "\n",
      "2\n",
      "\n",
      "[-inf  90. 172. 182. -inf -inf -inf -inf]\n",
      "\n",
      "[  0.  80.  83.  85.  86. -inf -inf -inf]\n",
      "\n",
      "3\n",
      "\n",
      "[-inf  90. 172. 252. 262. -inf -inf -inf]\n",
      "\n",
      "[-inf  90. 110. 115. 118. 120. -inf -inf]\n",
      "\n",
      "4\n",
      "\n",
      "[-inf -inf 180. 262. 342. 362. -inf -inf]\n",
      "\n",
      "[-inf 111. 130. 138. 142. 148. 155. -inf]\n",
      "\n"
     ]
    }
   ],
   "source": [
    "table_result = np.array([])\n",
    "previous_row = np.zeros(len(budgets))\n",
    "# considero budget b. Per quell'iterazione, considero tutti i budget della subcampaign b_s s.t. b >= budget(previous_row) + budget(subcampaign)\n",
    "index_s = 0\n",
    "for s in subcampaigns:\n",
    "    print(index_s)\n",
    "    print()\n",
    "    print(previous_row)\n",
    "    print()\n",
    "    print(init_table[index_s])\n",
    "    print()\n",
    "    index_b = 0\n",
    "    results = np.array([])  # array representing solution when adding subcampaign s\n",
    "    for b in budgets:\n",
    "        # when I am in subcampaign s, I have previous row containing the best allocation for each budget value\n",
    "        # fill array of choices of budget for pair (s, b). A choice is to be considered if budget\n",
    "        choices = np.array([])\n",
    "        if b > s.max_budget:\n",
    "            choices = np.append(choices, n_inf)\n",
    "        else:\n",
    "            # selezionare gli indici di previous_row che sono sotto a budget\n",
    "            filtered_choices_pr = previous_row[0:index_b+1]#lista temporanea contenente i casi di previous_row che sono associati ad un budget complementare\n",
    "            #print(filtered_choices_pr)\n",
    "            # selezionare per ogni valore di filtered_choices_pr l'associato della riga della subcampaign\n",
    "            for i in range(0, len(filtered_choices_pr)):\n",
    "                num_click_pr = previous_row[i]\n",
    "                # find index for associated complementary budget\n",
    "                j = np.where(budgets+budgets[i] == b)\n",
    "                j = j[0][0]\n",
    "                #print(i,j)\n",
    "                current_num_click_s = init_table[index_s][j]\n",
    "                choices = np.append(choices, current_num_click_s + num_click_pr)\n",
    "                #print(current_num_click_s, num_click_pr)\n",
    "        \n",
    "        #print(choices)\n",
    "        # find maximum\n",
    "        max_val = np.amax(choices)\n",
    "        results = np.append(results, max_val)                \n",
    "        index_b = index_b + 1\n",
    "        \n",
    "    #table_result = np.put(table_result, index_s, results)\n",
    "    table_result = np.concatenate((table_result, results), axis=0)\n",
    "    previous_row = results\n",
    "    index_s = index_s + 1\n",
    "\n",
    "table_result = table_result.reshape(len(subcampaigns), len(budgets))"
   ]
  },
  {
   "cell_type": "code",
   "execution_count": 36,
   "metadata": {},
   "outputs": [
    {
     "name": "stdout",
     "output_type": "stream",
     "text": [
      "[[-inf  90. 100. 105. 110. 110. 110. 110.]\n",
      " [-inf  90. 172. 182. 190. 195. 200. 202.]\n",
      " [-inf  90. 172. 252. 262. 270. 275. 280.]\n",
      " [-inf -inf 180. 262. 342. 362. 372. 380.]\n",
      " [-inf -inf -inf 291. 373. 453. 473. 492.]]\n"
     ]
    }
   ],
   "source": [
    "print(table_result)"
   ]
  },
  {
   "cell_type": "code",
   "execution_count": 23,
   "metadata": {},
   "outputs": [
    {
     "data": {
      "text/plain": [
       "[<matplotlib.lines.Line2D at 0x1e8a79264a8>]"
      ]
     },
     "execution_count": 23,
     "metadata": {},
     "output_type": "execute_result"
    },
    {
     "data": {
      "image/png": "[encoded data removed]",
      "text/plain": [
       "<Figure size 432x288 with 1 Axes>"
      ]
     },
     "metadata": {
      "needs_background": "light"
     },
     "output_type": "display_data"
    }
   ],
   "source": [
    "plt.plot(budgets, table_result[-1])"
   ]
  },
  {
   "cell_type": "code",
   "execution_count": null,
   "metadata": {},
   "outputs": [],
   "source": []
  }
 ],
 "metadata": {
  "kernelspec": {
   "display_name": "Python 3",
   "language": "python",
   "name": "python3"
  },
  "language_info": {
   "codemirror_mode": {
    "name": "ipython",
    "version": 3
   },
   "file_extension": ".py",
   "mimetype": "text/x-python",
   "name": "python",
   "nbconvert_exporter": "python",
   "pygments_lexer": "ipython3",
   "version": "3.7.0"
  }
 },
 "nbformat": 4,
 "nbformat_minor": 2
}
