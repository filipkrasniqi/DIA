{
 "cells": [
  {
   "cell_type": "code",
   "execution_count": 10,
   "metadata": {},
   "outputs": [],
   "source": [
    "import numpy as np\n",
    "import matplotlib.pyplot as plt"
   ]
  },
  {
   "cell_type": "code",
   "execution_count": 2,
   "metadata": {},
   "outputs": [],
   "source": [
    "n_inf = float(\"-inf\")\n",
    "class Subcampaign:\n",
    "    def __init__(self, bid, min_budget, max_budget, number_of_clicks):\n",
    "        self.bid = bid\n",
    "        self.min_budget = min_budget\n",
    "        self.max_budget = max_budget\n",
    "        self.number_of_clicks = number_of_clicks #function\n",
    "    \n",
    "    # x is budget\n",
    "    def n(self,x):\n",
    "        if x < self.min_budget:\n",
    "            return n_inf\n",
    "        elif x < self.bid:\n",
    "            return 0\n",
    "        elif x > self.max_budget:\n",
    "            return n_inf\n",
    "        else:\n",
    "            return self.number_of_clicks(x)"
   ]
  },
  {
   "cell_type": "code",
   "execution_count": 3,
   "metadata": {},
   "outputs": [],
   "source": [
    "def n1(x):\n",
    "    return x * 2\n",
    "def n2(x):\n",
    "    return x * 3\n",
    "def n3(x):\n",
    "    return x\n",
    "def n4(x):\n",
    "    return x * 4\n",
    "def n5(x):\n",
    "    return x * 7"
   ]
  },
  {
   "cell_type": "markdown",
   "metadata": {},
   "source": [
    "# Functions to simulate example in slides"
   ]
  },
  {
   "cell_type": "code",
   "execution_count": 14,
   "metadata": {},
   "outputs": [],
   "source": [
    "def n1(x):\n",
    "    y = [n_inf, 90, 100, 105, 110]\n",
    "    return y[int(x/10)]\n",
    "def n2(x):\n",
    "    y = [0, 82, 90, 92]\n",
    "    return y[int(x/10)]\n",
    "def n3(x):\n",
    "    y = [0, 80, 83, 85,86]\n",
    "    return y[int(x/10)]\n",
    "def n4(x):\n",
    "    y = [n_inf, 90, 110, 115, 118, 120]\n",
    "    return y[int(x/10)]\n",
    "def n5(x):\n",
    "    y = [n_inf, 111, 130, 138, 142, 148, 155]\n",
    "    return y[int(x/10)]"
   ]
  },
  {
   "cell_type": "markdown",
   "metadata": {},
   "source": [
    "# Init of subcampaigns"
   ]
  },
  {
   "cell_type": "code",
   "execution_count": 15,
   "metadata": {},
   "outputs": [],
   "source": [
    "subcampaigns = np.array([])\n",
    "'''\n",
    "subcampaigns = np.append(subcampaigns, Subcampaign(2, 0, 50, n1))\n",
    "subcampaigns = np.append(subcampaigns, Subcampaign(1, 0, 20, n2))\n",
    "subcampaigns = np.append(subcampaigns, Subcampaign(0.5, 0, 30, n3))\n",
    "subcampaigns = np.append(subcampaigns, Subcampaign(0.5, 0, 40, n4))\n",
    "subcampaigns = np.append(subcampaigns, Subcampaign(1, 0, 30, n5))\n",
    "'''\n",
    "subcampaigns = np.append(subcampaigns, Subcampaign(2, 10, 40, n1))\n",
    "subcampaigns = np.append(subcampaigns, Subcampaign(1, 0, 30, n2))\n",
    "subcampaigns = np.append(subcampaigns, Subcampaign(0.5, 0, 40, n3))\n",
    "subcampaigns = np.append(subcampaigns, Subcampaign(0.5, 10, 50, n4))\n",
    "subcampaigns = np.append(subcampaigns, Subcampaign(1, 10, 60, n5))"
   ]
  },
  {
   "cell_type": "markdown",
   "metadata": {},
   "source": [
    "# Init budget possible values"
   ]
  },
  {
   "cell_type": "code",
   "execution_count": 16,
   "metadata": {},
   "outputs": [],
   "source": [
    "budgets = np.linspace(0.0, 70.0, 8)"
   ]
  },
  {
   "cell_type": "markdown",
   "metadata": {},
   "source": [
    "# First step: choice of bid\n",
    "Being that we have only one bid for each subcampaign, it is not necessary. I just fill the table with the resulting values"
   ]
  },
  {
   "cell_type": "code",
   "execution_count": 17,
   "metadata": {},
   "outputs": [],
   "source": [
    "init_table = np.zeros(shape=(len(subcampaigns),len(budgets)))\n",
    "index_s = 0\n",
    "for s in subcampaigns:\n",
    "    row = []\n",
    "    for b in budgets:\n",
    "        row.append(s.n(b))\n",
    "    init_table[index_s]=row\n",
    "    index_s = index_s+1"
   ]
  },
  {
   "cell_type": "code",
   "execution_count": 18,
   "metadata": {},
   "outputs": [
    {
     "name": "stdout",
     "output_type": "stream",
     "text": [
      "[[-inf  90. 100. 105. 110. -inf -inf -inf]\n",
      " [  0.  82.  90.  92. -inf -inf -inf -inf]\n",
      " [  0.  80.  83.  85.  86. -inf -inf -inf]\n",
      " [-inf  90. 110. 115. 118. 120. -inf -inf]\n",
      " [-inf 111. 130. 138. 142. 148. 155. -inf]]\n"
     ]
    }
   ],
   "source": [
    "print(init_table)"
   ]
  },
  {
   "cell_type": "markdown",
   "metadata": {},
   "source": [
    "# Second step: instance budget for each subcampaign"
   ]
  },
  {
   "cell_type": "code",
   "execution_count": 41,
   "metadata": {},
   "outputs": [
    {
     "name": "stdout",
     "output_type": "stream",
     "text": [
      "0\n",
      "\n",
      "[0. 0. 0. 0. 0. 0. 0. 0.]\n",
      "\n",
      "[-inf  90. 100. 105. 110. -inf -inf -inf]\n",
      "\n",
      "1\n",
      "\n",
      "[-inf  90. 100. 105. 110. -inf -inf -inf]\n",
      "\n",
      "[  0.  82.  90.  92. -inf -inf -inf -inf]\n",
      "\n",
      "2\n",
      "\n",
      "[-inf  90. 172. 182. -inf -inf -inf -inf]\n",
      "\n",
      "[  0.  80.  83.  85.  86. -inf -inf -inf]\n",
      "\n",
      "3\n",
      "\n",
      "[-inf  90. 172. 252. 262. -inf -inf -inf]\n",
      "\n",
      "[-inf  90. 110. 115. 118. 120. -inf -inf]\n",
      "\n",
      "4\n",
      "\n",
      "[-inf -inf 180. 262. 342. 362. -inf -inf]\n",
      "\n",
      "[-inf 111. 130. 138. 142. 148. 155. -inf]\n",
      "\n"
     ]
    }
   ],
   "source": [
    "table_result = np.array([])\n",
    "previous_row = np.zeros(len(budgets))\n",
    "# considero budget b. Per quell'iterazione, considero tutti i budget della subcampaign b_s s.t. b >= budget(previous_row) + budget(subcampaign)\n",
    "index_s = 0\n",
    "for s in subcampaigns:\n",
    "    print(index_s)\n",
    "    print()\n",
    "    print(previous_row)\n",
    "    print()\n",
    "    print(init_table[index_s])\n",
    "    print()\n",
    "    index_b = 0\n",
    "    results = np.array([])  # array representing solution when adding subcampaign s\n",
    "    for b in budgets:\n",
    "        # when I am in subcampaign s, I have previous row containing the best allocation for each budget value\n",
    "        # fill array of choices of budget for pair (s, b). A choice is to be considered if budget\n",
    "        choices = np.array([])\n",
    "        if b > s.max_budget:\n",
    "            choices = np.append(choices, n_inf)\n",
    "        else:\n",
    "            # selezionare gli indici di previous_row che sono sotto a budget\n",
    "            filtered_choices_pr = previous_row[0:index_b+1]#lista temporanea contenente i casi di previous_row che sono associati ad un budget complementare\n",
    "            #print(filtered_choices_pr)\n",
    "            # selezionare per ogni valore di filtered_choices_pr l'associato della riga della subcampaign\n",
    "            for i in range(0, len(filtered_choices_pr)):\n",
    "                num_click_pr = previous_row[i]\n",
    "                # find index for associated complementary budget\n",
    "                j = np.where(budgets+budgets[i] == b)\n",
    "                j = j[0][0]\n",
    "                #print(i,j)\n",
    "                current_num_click_s = init_table[index_s][j]\n",
    "                choices = np.append(choices, current_num_click_s + num_click_pr)\n",
    "                #print(current_num_click_s, num_click_pr)\n",
    "        \n",
    "        #print(choices)\n",
    "        # find maximum\n",
    "        max_val = np.amax(choices)\n",
    "        results = np.append(results, max_val)                \n",
    "        index_b = index_b + 1\n",
    "        \n",
    "    #table_result = np.put(table_result, index_s, results)\n",
    "    table_result = np.concatenate((table_result, results), axis=0)\n",
    "    previous_row = results\n",
    "    index_s = index_s + 1\n",
    "\n",
    "table_result = table_result.reshape(len(subcampaigns), len(budgets))"
   ]
  },
  {
   "cell_type": "code",
   "execution_count": 36,
   "metadata": {},
   "outputs": [
    {
     "name": "stdout",
     "output_type": "stream",
     "text": [
      "[[-inf  90. 100. 105. 110. 110. 110. 110.]\n",
      " [-inf  90. 172. 182. 190. 195. 200. 202.]\n",
      " [-inf  90. 172. 252. 262. 270. 275. 280.]\n",
      " [-inf -inf 180. 262. 342. 362. 372. 380.]\n",
      " [-inf -inf -inf 291. 373. 453. 473. 492.]]\n"
     ]
    }
   ],
   "source": [
    "print(table_result)"
   ]
  },
  {
   "cell_type": "code",
   "execution_count": 23,
   "metadata": {},
   "outputs": [
    {
     "data": {
      "text/plain": [
<<<<<<< HEAD
       "[<matplotlib.lines.Line2D at 0x1e8a79264a8>]"
=======
       "[<matplotlib.lines.Line2D at 0x230f7ff60f0>]"
>>>>>>> d6af457337c80f076aa3ccb84a5d277e7815b42b
      ]
     },
     "execution_count": 23,
     "metadata": {},
     "output_type": "execute_result"
    },
    {
     "data": {
<<<<<<< HEAD
      "image/png": "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\n",
=======
      "image/png": "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\n",
>>>>>>> d6af457337c80f076aa3ccb84a5d277e7815b42b
      "text/plain": [
       "<Figure size 432x288 with 1 Axes>"
      ]
     },
     "metadata": {
      "needs_background": "light"
     },
     "output_type": "display_data"
    }
   ],
   "source": [
    "plt.plot(budgets, table_result[-1])"
   ]
  },
  {
   "cell_type": "code",
   "execution_count": null,
   "metadata": {},
   "outputs": [],
   "source": []
  }
 ],
 "metadata": {
  "kernelspec": {
   "display_name": "Python 3",
   "language": "python",
   "name": "python3"
  },
  "language_info": {
   "codemirror_mode": {
    "name": "ipython",
    "version": 3
   },
   "file_extension": ".py",
   "mimetype": "text/x-python",
   "name": "python",
   "nbconvert_exporter": "python",
   "pygments_lexer": "ipython3",
   "version": "3.7.1"
  }
 },
 "nbformat": 4,
 "nbformat_minor": 2
}
